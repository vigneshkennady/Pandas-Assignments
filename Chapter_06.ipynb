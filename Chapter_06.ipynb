{
  "nbformat": 4,
  "nbformat_minor": 0,
  "metadata": {
    "colab": {
      "provenance": [],
      "authorship_tag": "ABX9TyMqHVgUHEBMOSFf5+4Pt7li",
      "include_colab_link": true
    },
    "kernelspec": {
      "name": "python3",
      "display_name": "Python 3"
    },
    "language_info": {
      "name": "python"
    }
  },
  "cells": [
    {
      "cell_type": "markdown",
      "metadata": {
        "id": "view-in-github",
        "colab_type": "text"
      },
      "source": [
        "<a href=\"https://colab.research.google.com/github/vigneshkennady/Pandas-Assignments/blob/main/Chapter_06.ipynb\" target=\"_parent\"><img src=\"https://colab.research.google.com/assets/colab-badge.svg\" alt=\"Open In Colab\"/></a>"
      ]
    },
    {
      "cell_type": "code",
      "execution_count": 1,
      "metadata": {
        "id": "6zWgdXJsaqAA"
      },
      "outputs": [],
      "source": [
        "import pandas as pd"
      ]
    },
    {
      "cell_type": "code",
      "source": [
        "populations_2010 = \\\n",
        "pd.read_csv('/content/datasets/US_Census_SUB-IP-EST2019-ANNRNK_top_20_2010.csv',\n",
        "            index_col = [0],\n",
        "            squeeze = True)\n",
        "populations_2010"
      ],
      "metadata": {
        "colab": {
          "base_uri": "https://localhost:8080/"
        },
        "id": "emAIRf26ayns",
        "outputId": "4a9eca1f-e8e3-49aa-8300-5f19cf55127b"
      },
      "execution_count": 2,
      "outputs": [
        {
          "output_type": "stream",
          "name": "stderr",
          "text": [
            "<ipython-input-2-e23a5363267f>:2: FutureWarning: The squeeze argument has been deprecated and will be removed in a future version. Append .squeeze(\"columns\") to the call to squeeze.\n",
            "\n",
            "\n",
            "  pd.read_csv('/content/datasets/US_Census_SUB-IP-EST2019-ANNRNK_top_20_2010.csv',\n"
          ]
        },
        {
          "output_type": "execute_result",
          "data": {
            "text/plain": [
              "City\n",
              "New York                8190209\n",
              "Los Angeles             3795512\n",
              "Chicago                 2697477\n",
              "Houston                 2100280\n",
              "Phoenix                 1449038\n",
              "Philadelphia            1528283\n",
              "San Antonio             1332299\n",
              "San Diego               1305906\n",
              "Dallas                  1200350\n",
              "San Jose                 954940\n",
              "Austin                   806164\n",
              "Jacksonville             823114\n",
              "Fort Worth               748441\n",
              "Columbus                 790943\n",
              "Charlotte                738444\n",
              "San Francisco            805505\n",
              "Indianapolis             821579\n",
              "Seattle                  610630\n",
              "Denver                   603359\n",
              "District of Columbia     605226\n",
              "Name: 2010, dtype: int64"
            ]
          },
          "metadata": {},
          "execution_count": 2
        }
      ]
    },
    {
      "cell_type": "code",
      "source": [
        "top_3_2010 = sum(populations_2010[['New York', 'Los Angeles', 'Chicago']])"
      ],
      "metadata": {
        "id": "03k7pWhJbCm5"
      },
      "execution_count": 3,
      "outputs": []
    },
    {
      "cell_type": "code",
      "source": [
        "populations_2019 = \\\n",
        "pd.read_csv('/content/datasets/US_Census_SUB-IP-EST2019-ANNRNK_top_20_2019.csv',\n",
        "            index_col = [0],\n",
        "            squeeze = True)\n",
        "populations_2019"
      ],
      "metadata": {
        "colab": {
          "base_uri": "https://localhost:8080/"
        },
        "id": "MbchlUuZbHN9",
        "outputId": "35f8ee69-61dd-4b6d-c0ef-603b11edeac4"
      },
      "execution_count": 4,
      "outputs": [
        {
          "output_type": "stream",
          "name": "stderr",
          "text": [
            "<ipython-input-4-b59931fad94f>:2: FutureWarning: The squeeze argument has been deprecated and will be removed in a future version. Append .squeeze(\"columns\") to the call to squeeze.\n",
            "\n",
            "\n",
            "  pd.read_csv('/content/datasets/US_Census_SUB-IP-EST2019-ANNRNK_top_20_2019.csv',\n"
          ]
        },
        {
          "output_type": "execute_result",
          "data": {
            "text/plain": [
              "City\n",
              "New York                8336817\n",
              "Los Angeles             3979576\n",
              "Chicago                 2693976\n",
              "Houston                 2320268\n",
              "Phoenix                 1680992\n",
              "Philadelphia            1584064\n",
              "San Antonio             1547253\n",
              "San Diego               1423851\n",
              "Dallas                  1343573\n",
              "San Jose                1021795\n",
              "Austin                   978908\n",
              "Jacksonville             911507\n",
              "Fort Worth               909585\n",
              "Columbus                 898553\n",
              "Charlotte                885708\n",
              "San Francisco            881549\n",
              "Indianapolis             876384\n",
              "Seattle                  753675\n",
              "Denver                   727211\n",
              "District of Columbia     705749\n",
              "Name: 2019, dtype: int64"
            ]
          },
          "metadata": {},
          "execution_count": 4
        }
      ]
    },
    {
      "cell_type": "code",
      "source": [
        "top_3_2019 = sum(populations_2019[['New York', 'Los Angeles', 'Chicago']])"
      ],
      "metadata": {
        "id": "1nTiUOoMbTNs"
      },
      "execution_count": 5,
      "outputs": []
    },
    {
      "cell_type": "code",
      "source": [
        "top_3_change = 100 * (top_3_2019 - top_3_2010) / top_3_2010\n",
        "all_change = 100 * sum(populations_2019 - populations_2010) / sum(populations_2010)\n",
        "#\n",
        "print('top 3 changed', str(round(top_3_change, 1)), '%\\n',\n",
        "      'vs. all changed', str(round(all_change, 1)), '%')"
      ],
      "metadata": {
        "colab": {
          "base_uri": "https://localhost:8080/"
        },
        "id": "PR005RezbVxx",
        "outputId": "2d26249b-3d90-4391-a1b9-a4d337fa90cb"
      },
      "execution_count": 6,
      "outputs": [
        {
          "output_type": "stream",
          "name": "stdout",
          "text": [
            "top 3 changed 2.2 %\n",
            " vs. all changed 8.0 %\n"
          ]
        }
      ]
    }
  ]
}